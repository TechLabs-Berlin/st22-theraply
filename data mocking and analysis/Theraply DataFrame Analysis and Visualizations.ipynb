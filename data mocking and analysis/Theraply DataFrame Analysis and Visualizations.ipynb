{
 "cells": [
  {
   "cell_type": "markdown",
   "id": "8e1245d8",
   "metadata": {},
   "source": [
    "# Theraply DataFrame Analysis and Visualizations"
   ]
  },
  {
   "cell_type": "markdown",
   "id": "0ddb6440",
   "metadata": {},
   "source": [
    "Our team has compiled a list of therapists in Berlin, which we use as our available therapists for potential customers on our app Theraply. We see and approach the data and available related information in this list as a kind of snippet for a market landscape of therapists in Berlin. \n",
    "\n",
    "In this file, we are going to analyse the existing condition of therapists in Berlin, through important factors, like languages offered by the therapists, frequency of therapists based on genders, access in terms of possible payment methods, and how long in average people have to wait to get the initial appointment. \n",
    "Our analysis convinced us that Theraply is necessary to answer the current problems: long waiting time to get help from a therapist and unclear or complicated process to get a therapist appointment. \n",
    "\n",
    "Theraply will fill in the gaps in catering the needs of people who need an immediate psychotheraphy help and those who need a user-friendly guidance, or even an assistant, in contacting psychological health professionals.  "
   ]
  },
  {
   "cell_type": "code",
   "execution_count": 26,
   "id": "4c31349e",
   "metadata": {},
   "outputs": [],
   "source": [
    "import pandas as pd\n",
    "import seaborn as sns\n",
    "import matplotlib.pyplot as plt\n",
    "import numpy as np"
   ]
  },
  {
   "cell_type": "markdown",
   "id": "6c6cb180",
   "metadata": {},
   "source": [
    "### The DataFrame"
   ]
  },
  {
   "cell_type": "code",
   "execution_count": 28,
   "id": "ee80aa73",
   "metadata": {},
   "outputs": [],
   "source": [
    "df = pd.read_csv('/Users/tikaramadhini/Documents/theraplydata/thedata/final list of therapists and other info.csv', encoding_errors='ignore', sep=';', index_col='Number')"
   ]
  },
  {
   "cell_type": "code",
   "execution_count": 4,
   "id": "e0b298ee",
   "metadata": {},
   "outputs": [
    {
     "data": {
      "text/html": [
       "<div>\n",
       "<style scoped>\n",
       "    .dataframe tbody tr th:only-of-type {\n",
       "        vertical-align: middle;\n",
       "    }\n",
       "\n",
       "    .dataframe tbody tr th {\n",
       "        vertical-align: top;\n",
       "    }\n",
       "\n",
       "    .dataframe thead th {\n",
       "        text-align: right;\n",
       "    }\n",
       "</style>\n",
       "<table border=\"1\" class=\"dataframe\">\n",
       "  <thead>\n",
       "    <tr style=\"text-align: right;\">\n",
       "      <th></th>\n",
       "      <th>Name</th>\n",
       "      <th>Gender</th>\n",
       "      <th>Personal Therapy</th>\n",
       "      <th>Group Therapy</th>\n",
       "      <th>Language</th>\n",
       "      <th>Type of Therapy</th>\n",
       "      <th>Expertise</th>\n",
       "      <th>Type of Payment</th>\n",
       "      <th>Patient Type</th>\n",
       "      <th>Address</th>\n",
       "      <th>Postal Code</th>\n",
       "      <th>Phone Number</th>\n",
       "      <th>Email</th>\n",
       "      <th>Website</th>\n",
       "      <th>Call Availability</th>\n",
       "      <th>Barrier Free Access</th>\n",
       "      <th>Waiting Time (Weeks)</th>\n",
       "    </tr>\n",
       "    <tr>\n",
       "      <th>Number</th>\n",
       "      <th></th>\n",
       "      <th></th>\n",
       "      <th></th>\n",
       "      <th></th>\n",
       "      <th></th>\n",
       "      <th></th>\n",
       "      <th></th>\n",
       "      <th></th>\n",
       "      <th></th>\n",
       "      <th></th>\n",
       "      <th></th>\n",
       "      <th></th>\n",
       "      <th></th>\n",
       "      <th></th>\n",
       "      <th></th>\n",
       "      <th></th>\n",
       "      <th></th>\n",
       "    </tr>\n",
       "  </thead>\n",
       "  <tbody>\n",
       "    <tr>\n",
       "      <th>1</th>\n",
       "      <td>Prof.Dr.Dr. Rainer Kaus</td>\n",
       "      <td>Male</td>\n",
       "      <td>Yes</td>\n",
       "      <td>Yes</td>\n",
       "      <td>German, English, Hebrew, Arabic</td>\n",
       "      <td>analytical psychotherapy, depth psychology-bas...</td>\n",
       "      <td>Depression, Panic Attack, Burnout, Crisis Inte...</td>\n",
       "      <td>GKV, Private</td>\n",
       "      <td>Adult, Kids and Teenagers</td>\n",
       "      <td>Garnisonkirchplatz 2/II</td>\n",
       "      <td>10178</td>\n",
       "      <td>030 24727950</td>\n",
       "      <td>NaN</td>\n",
       "      <td>NaN</td>\n",
       "      <td>Monday 15.00-16.40</td>\n",
       "      <td>Yes</td>\n",
       "      <td>4</td>\n",
       "    </tr>\n",
       "    <tr>\n",
       "      <th>2</th>\n",
       "      <td>Dr. Hannsi Padberg</td>\n",
       "      <td>Female</td>\n",
       "      <td>Yes</td>\n",
       "      <td>Yes</td>\n",
       "      <td>German</td>\n",
       "      <td>depth psychology-based psychotherapie</td>\n",
       "      <td>Depression, Panic Attack, Burnout, Crisis Inte...</td>\n",
       "      <td>GKV, Private</td>\n",
       "      <td>Adult, Kids and Teenagers</td>\n",
       "      <td>Garnisonkirchplatz 2/II</td>\n",
       "      <td>10178</td>\n",
       "      <td>030 24727950</td>\n",
       "      <td>NaN</td>\n",
       "      <td>NaN</td>\n",
       "      <td>Monday 15.00-16.40</td>\n",
       "      <td>Yes</td>\n",
       "      <td>2</td>\n",
       "    </tr>\n",
       "    <tr>\n",
       "      <th>3</th>\n",
       "      <td>Dipl.-Psych. Reiner Domes-Nontasila</td>\n",
       "      <td>Male</td>\n",
       "      <td>Yes</td>\n",
       "      <td>No</td>\n",
       "      <td>German, English</td>\n",
       "      <td>depth psychology-based psychotherapie</td>\n",
       "      <td>fear - phobia, depression, eating disorder, em...</td>\n",
       "      <td>GKV, Private</td>\n",
       "      <td>Adult</td>\n",
       "      <td>Dircksenstrae 47</td>\n",
       "      <td>10178</td>\n",
       "      <td>030 55494880</td>\n",
       "      <td>NaN</td>\n",
       "      <td>NaN</td>\n",
       "      <td>Monday 14:10 - 15:00, Tuesday 08:10 - 09:00, W...</td>\n",
       "      <td>No</td>\n",
       "      <td>5</td>\n",
       "    </tr>\n",
       "    <tr>\n",
       "      <th>4</th>\n",
       "      <td>Dr. Walter Raffauf</td>\n",
       "      <td>Male</td>\n",
       "      <td>Yes</td>\n",
       "      <td>No</td>\n",
       "      <td>German, English, French, Italian, Dutch, Russian</td>\n",
       "      <td>depth psychology-based psychotherapie</td>\n",
       "      <td>NaN</td>\n",
       "      <td>GKV, Private</td>\n",
       "      <td>Adult</td>\n",
       "      <td>Dircksenstrae 47</td>\n",
       "      <td>10178</td>\n",
       "      <td>030 234569870</td>\n",
       "      <td>NaN</td>\n",
       "      <td>http://www.neuropraxis-mitte.de</td>\n",
       "      <td></td>\n",
       "      <td>No</td>\n",
       "      <td>6</td>\n",
       "    </tr>\n",
       "    <tr>\n",
       "      <th>5</th>\n",
       "      <td>Dipl.-Psych. Frank Taffelt</td>\n",
       "      <td>Male</td>\n",
       "      <td>Yes</td>\n",
       "      <td>No</td>\n",
       "      <td>German</td>\n",
       "      <td>Analytical psychotherapy, depth psychology-bas...</td>\n",
       "      <td>fear - phobia, depression, eating disorder, em...</td>\n",
       "      <td>GKV, Private</td>\n",
       "      <td>Adult, Kids and Teenagers</td>\n",
       "      <td>Rosenthaler Strae 40/41</td>\n",
       "      <td>10178</td>\n",
       "      <td>030 2829012</td>\n",
       "      <td>h.f.taffelt@t-online.de</td>\n",
       "      <td>NaN</td>\n",
       "      <td>Monday 10:20 - 10:45, 14:50 - 15:15 Tuesday 10...</td>\n",
       "      <td>Yes</td>\n",
       "      <td>8</td>\n",
       "    </tr>\n",
       "    <tr>\n",
       "      <th>...</th>\n",
       "      <td>...</td>\n",
       "      <td>...</td>\n",
       "      <td>...</td>\n",
       "      <td>...</td>\n",
       "      <td>...</td>\n",
       "      <td>...</td>\n",
       "      <td>...</td>\n",
       "      <td>...</td>\n",
       "      <td>...</td>\n",
       "      <td>...</td>\n",
       "      <td>...</td>\n",
       "      <td>...</td>\n",
       "      <td>...</td>\n",
       "      <td>...</td>\n",
       "      <td>...</td>\n",
       "      <td>...</td>\n",
       "      <td>...</td>\n",
       "    </tr>\n",
       "    <tr>\n",
       "      <th>126</th>\n",
       "      <td>Prof. Dr.Benigna Gerisch</td>\n",
       "      <td>Female</td>\n",
       "      <td>Yes</td>\n",
       "      <td>No</td>\n",
       "      <td>German, English</td>\n",
       "      <td>depth psychology-based psychotherapie, psychoa...</td>\n",
       "      <td>fear - phobia, depression, eating disorder, em...</td>\n",
       "      <td>GKV, Private</td>\n",
       "      <td>Adult</td>\n",
       "      <td>Stromstrasse 3</td>\n",
       "      <td>10555</td>\n",
       "      <td>030 - 300117713</td>\n",
       "      <td>benigna.gerisch@ipu-berlin.de</td>\n",
       "      <td>www.ipu-berlin.de</td>\n",
       "      <td>NaN</td>\n",
       "      <td>NaN</td>\n",
       "      <td>4</td>\n",
       "    </tr>\n",
       "    <tr>\n",
       "      <th>127</th>\n",
       "      <td>Dipl. Soz.Sylvie Tappert</td>\n",
       "      <td>Female</td>\n",
       "      <td>Yes</td>\n",
       "      <td>Yes</td>\n",
       "      <td>German, English</td>\n",
       "      <td>Talk therapy, Humanistic methods, Body-oriente...</td>\n",
       "      <td>fear - phobia, depression, eating disorder, em...</td>\n",
       "      <td>Private</td>\n",
       "      <td>Adult, Kids and Teenagers</td>\n",
       "      <td>Waisenstrae 28</td>\n",
       "      <td>10179</td>\n",
       "      <td>030 - 28372571</td>\n",
       "      <td>sylvie.tappert@therako.de</td>\n",
       "      <td>http://www.therako.de/</td>\n",
       "      <td>NaN</td>\n",
       "      <td>NaN</td>\n",
       "      <td>1</td>\n",
       "    </tr>\n",
       "    <tr>\n",
       "      <th>128</th>\n",
       "      <td>Boris Laaser</td>\n",
       "      <td>Male</td>\n",
       "      <td>Yes</td>\n",
       "      <td>No</td>\n",
       "      <td>German, English</td>\n",
       "      <td>Talk therapy, Humanistic methods, Body-oriente...</td>\n",
       "      <td>fear - phobia, depression, eating disorder, em...</td>\n",
       "      <td>Private</td>\n",
       "      <td>Adult, Kids and Teenagers</td>\n",
       "      <td>Waisenstrae 28</td>\n",
       "      <td>10179</td>\n",
       "      <td>0176 - 43332635</td>\n",
       "      <td>kontakt@systemische-therapie-berlin.info</td>\n",
       "      <td>https://systemische-therapie-berlin.info/</td>\n",
       "      <td>NaN</td>\n",
       "      <td>NaN</td>\n",
       "      <td>1</td>\n",
       "    </tr>\n",
       "    <tr>\n",
       "      <th>129</th>\n",
       "      <td>Steffen Arndt</td>\n",
       "      <td>Male</td>\n",
       "      <td>Yes</td>\n",
       "      <td>No</td>\n",
       "      <td>German, English</td>\n",
       "      <td>body-oriented method</td>\n",
       "      <td>fear - phobia, depression, neurology, psycho-o...</td>\n",
       "      <td>Private</td>\n",
       "      <td>Adult</td>\n",
       "      <td>Neue Jakob Strae 2</td>\n",
       "      <td>10179</td>\n",
       "      <td>0163 - 6353725</td>\n",
       "      <td>hallo@steffen-arndt.de</td>\n",
       "      <td>http://www.koerperpsychotherapeut-berlin.de/</td>\n",
       "      <td>NaN</td>\n",
       "      <td>NaN</td>\n",
       "      <td>0</td>\n",
       "    </tr>\n",
       "    <tr>\n",
       "      <th>130</th>\n",
       "      <td>Dr.Martyn Vilain</td>\n",
       "      <td>Male</td>\n",
       "      <td>Yes</td>\n",
       "      <td>Yes</td>\n",
       "      <td>German, English</td>\n",
       "      <td>Talk therapy, Short-term therapy, Behavioral t...</td>\n",
       "      <td>NaN</td>\n",
       "      <td>GKV, Private</td>\n",
       "      <td>Adult</td>\n",
       "      <td>Maaenstr. 10</td>\n",
       "      <td>10777</td>\n",
       "      <td>030 - 23369233</td>\n",
       "      <td>mail@zppb.de</td>\n",
       "      <td>http://www.zppb.de/</td>\n",
       "      <td>NaN</td>\n",
       "      <td>NaN</td>\n",
       "      <td>4</td>\n",
       "    </tr>\n",
       "  </tbody>\n",
       "</table>\n",
       "<p>130 rows × 17 columns</p>\n",
       "</div>"
      ],
      "text/plain": [
       "                                       Name  Gender Personal Therapy  \\\n",
       "Number                                                                 \n",
       "1                   Prof.Dr.Dr. Rainer Kaus    Male              Yes   \n",
       "2                        Dr. Hannsi Padberg  Female              Yes   \n",
       "3       Dipl.-Psych. Reiner Domes-Nontasila    Male              Yes   \n",
       "4                        Dr. Walter Raffauf    Male              Yes   \n",
       "5                Dipl.-Psych. Frank Taffelt    Male              Yes   \n",
       "...                                     ...     ...              ...   \n",
       "126                Prof. Dr.Benigna Gerisch  Female              Yes   \n",
       "127                Dipl. Soz.Sylvie Tappert  Female              Yes   \n",
       "128                            Boris Laaser    Male              Yes   \n",
       "129                           Steffen Arndt    Male              Yes   \n",
       "130                        Dr.Martyn Vilain    Male              Yes   \n",
       "\n",
       "       Group Therapy                                          Language  \\\n",
       "Number                                                                   \n",
       "1                Yes                   German, English, Hebrew, Arabic   \n",
       "2                Yes                                            German   \n",
       "3                 No                                   German, English   \n",
       "4                 No  German, English, French, Italian, Dutch, Russian   \n",
       "5                 No                                            German   \n",
       "...              ...                                               ...   \n",
       "126               No                                   German, English   \n",
       "127              Yes                                   German, English   \n",
       "128               No                                   German, English   \n",
       "129               No                                   German, English   \n",
       "130              Yes                                   German, English   \n",
       "\n",
       "                                          Type of Therapy  \\\n",
       "Number                                                      \n",
       "1       analytical psychotherapy, depth psychology-bas...   \n",
       "2                   depth psychology-based psychotherapie   \n",
       "3                   depth psychology-based psychotherapie   \n",
       "4                   depth psychology-based psychotherapie   \n",
       "5       Analytical psychotherapy, depth psychology-bas...   \n",
       "...                                                   ...   \n",
       "126     depth psychology-based psychotherapie, psychoa...   \n",
       "127     Talk therapy, Humanistic methods, Body-oriente...   \n",
       "128     Talk therapy, Humanistic methods, Body-oriente...   \n",
       "129                                  body-oriented method   \n",
       "130     Talk therapy, Short-term therapy, Behavioral t...   \n",
       "\n",
       "                                                Expertise Type of Payment   \\\n",
       "Number                                                                       \n",
       "1       Depression, Panic Attack, Burnout, Crisis Inte...     GKV, Private   \n",
       "2       Depression, Panic Attack, Burnout, Crisis Inte...     GKV, Private   \n",
       "3       fear - phobia, depression, eating disorder, em...     GKV, Private   \n",
       "4                                                     NaN     GKV, Private   \n",
       "5       fear - phobia, depression, eating disorder, em...     GKV, Private   \n",
       "...                                                   ...              ...   \n",
       "126     fear - phobia, depression, eating disorder, em...     GKV, Private   \n",
       "127     fear - phobia, depression, eating disorder, em...          Private   \n",
       "128     fear - phobia, depression, eating disorder, em...          Private   \n",
       "129     fear - phobia, depression, neurology, psycho-o...          Private   \n",
       "130                                                   NaN     GKV, Private   \n",
       "\n",
       "                     Patient Type                   Address  Postal Code  \\\n",
       "Number                                                                     \n",
       "1       Adult, Kids and Teenagers  Garnisonkirchplatz 2/II         10178   \n",
       "2       Adult, Kids and Teenagers  Garnisonkirchplatz 2/II         10178   \n",
       "3                           Adult          Dircksenstrae 47        10178   \n",
       "4                           Adult          Dircksenstrae 47        10178   \n",
       "5       Adult, Kids and Teenagers  Rosenthaler Strae 40/41         10178   \n",
       "...                           ...                       ...          ...   \n",
       "126                         Adult            Stromstrasse 3        10555   \n",
       "127     Adult, Kids and Teenagers            Waisenstrae 28        10179   \n",
       "128     Adult, Kids and Teenagers            Waisenstrae 28        10179   \n",
       "129                         Adult        Neue Jakob Strae 2        10179   \n",
       "130                         Adult              Maaenstr. 10        10777   \n",
       "\n",
       "           Phone Number                                     Email  \\\n",
       "Number                                                              \n",
       "1          030 24727950                                       NaN   \n",
       "2          030 24727950                                       NaN   \n",
       "3          030 55494880                                       NaN   \n",
       "4         030 234569870                                       NaN   \n",
       "5           030 2829012                   h.f.taffelt@t-online.de   \n",
       "...                 ...                                       ...   \n",
       "126     030 - 300117713             benigna.gerisch@ipu-berlin.de   \n",
       "127      030 - 28372571                 sylvie.tappert@therako.de   \n",
       "128     0176 - 43332635  kontakt@systemische-therapie-berlin.info   \n",
       "129      0163 - 6353725                    hallo@steffen-arndt.de   \n",
       "130      030 - 23369233                              mail@zppb.de   \n",
       "\n",
       "                                             Website  \\\n",
       "Number                                                 \n",
       "1                                                NaN   \n",
       "2                                                NaN   \n",
       "3                                                NaN   \n",
       "4                    http://www.neuropraxis-mitte.de   \n",
       "5                                                NaN   \n",
       "...                                              ...   \n",
       "126                                www.ipu-berlin.de   \n",
       "127                           http://www.therako.de/   \n",
       "128        https://systemische-therapie-berlin.info/   \n",
       "129     http://www.koerperpsychotherapeut-berlin.de/   \n",
       "130                              http://www.zppb.de/   \n",
       "\n",
       "                                        Call Availability Barrier Free Access  \\\n",
       "Number                                                                          \n",
       "1                                      Monday 15.00-16.40                 Yes   \n",
       "2                                      Monday 15.00-16.40                 Yes   \n",
       "3       Monday 14:10 - 15:00, Tuesday 08:10 - 09:00, W...                  No   \n",
       "4                                                                          No   \n",
       "5       Monday 10:20 - 10:45, 14:50 - 15:15 Tuesday 10...                 Yes   \n",
       "...                                                   ...                 ...   \n",
       "126                                                   NaN                 NaN   \n",
       "127                                                   NaN                 NaN   \n",
       "128                                                   NaN                 NaN   \n",
       "129                                                   NaN                 NaN   \n",
       "130                                                   NaN                 NaN   \n",
       "\n",
       "       Waiting Time (Weeks)  \n",
       "Number                       \n",
       "1                         4  \n",
       "2                         2  \n",
       "3                         5  \n",
       "4                         6  \n",
       "5                         8  \n",
       "...                     ...  \n",
       "126                       4  \n",
       "127                       1  \n",
       "128                       1  \n",
       "129                       0  \n",
       "130                       4  \n",
       "\n",
       "[130 rows x 17 columns]"
      ]
     },
     "execution_count": 4,
     "metadata": {},
     "output_type": "execute_result"
    }
   ],
   "source": [
    "df"
   ]
  },
  {
   "cell_type": "code",
   "execution_count": 6,
   "id": "5d43f737",
   "metadata": {},
   "outputs": [
    {
     "data": {
      "text/plain": [
       "(130, 17)"
      ]
     },
     "execution_count": 6,
     "metadata": {},
     "output_type": "execute_result"
    }
   ],
   "source": [
    "df.shape"
   ]
  },
  {
   "cell_type": "markdown",
   "id": "56881c73",
   "metadata": {},
   "source": [
    "### Exploring the gender information of our therapists in Berlin, how frequent are female therapists compared to their male counterparts in Berlin?"
   ]
  },
  {
   "cell_type": "code",
   "execution_count": 9,
   "id": "70fb333a",
   "metadata": {},
   "outputs": [],
   "source": [
    "#frequency of female therapists in Berlin\n"
   ]
  },
  {
   "cell_type": "code",
   "execution_count": null,
   "id": "2ab897b9",
   "metadata": {},
   "outputs": [],
   "source": [
    "#frequency of male therapists in Berlin"
   ]
  },
  {
   "cell_type": "code",
   "execution_count": null,
   "id": "7b7b1be3",
   "metadata": {},
   "outputs": [],
   "source": [
    "#chart"
   ]
  },
  {
   "cell_type": "markdown",
   "id": "738253f5",
   "metadata": {},
   "source": [
    "### Around half of Berlin's residents are not from Berlin and one-third of them are international residents. \n",
    "Therefore, it is important to provide access to therapists that speak English too, or even other languages, as psychotherapy is best done in one's mothertongue or a language one's comfortable enough to speak in. Hereby are some visuals of information related to languages of our therapists."
   ]
  },
  {
   "cell_type": "code",
   "execution_count": 25,
   "id": "8f41ec69",
   "metadata": {},
   "outputs": [
    {
     "data": {
      "text/plain": [
       "Number\n",
       "1                       German, English, Hebrew, Arabic\n",
       "2                                                German\n",
       "3                                       German, English\n",
       "4      German, English, French, Italian, Dutch, Russian\n",
       "5                                                German\n",
       "                             ...                       \n",
       "126                                     German, English\n",
       "127                                     German, English\n",
       "128                                     German, English\n",
       "129                                     German, English\n",
       "130                                     German, English\n",
       "Name: Language, Length: 130, dtype: object"
      ]
     },
     "execution_count": 25,
     "metadata": {},
     "output_type": "execute_result"
    }
   ],
   "source": [
    "df['Language']"
   ]
  },
  {
   "cell_type": "code",
   "execution_count": 23,
   "id": "1c2282f1",
   "metadata": {},
   "outputs": [
    {
     "data": {
      "text/plain": [
       "Number\n",
       "1                       German, English, Hebrew, Arabic\n",
       "3                                       German, English\n",
       "4      German, English, French, Italian, Dutch, Russian\n",
       "6                                       German, English\n",
       "11                              German, English, French\n",
       "                             ...                       \n",
       "126                                     German, English\n",
       "127                                     German, English\n",
       "128                                     German, English\n",
       "129                                     German, English\n",
       "130                                     German, English\n",
       "Name: Language, Length: 108, dtype: object"
      ]
     },
     "execution_count": 23,
     "metadata": {},
     "output_type": "execute_result"
    }
   ],
   "source": [
    "language_filt = df['Language'].str.contains('English')\n",
    "df.loc[language_filt, 'Language']"
   ]
  },
  {
   "cell_type": "code",
   "execution_count": 25,
   "id": "33559dc2",
   "metadata": {},
   "outputs": [
    {
     "data": {
      "text/plain": [
       "Number\n",
       "4      German, English, French, Italian, Dutch, Russian\n",
       "11                              German, English, French\n",
       "15                     German, English, French, Spanish\n",
       "25                              German, English, French\n",
       "33                              German, English, French\n",
       "41                     German, English, French, Spanish\n",
       "56                              German, English, French\n",
       "57                              German, English, French\n",
       "78                              German, English, French\n",
       "93                              German, English, French\n",
       "123                             German, English, French\n",
       "Name: Language, dtype: object"
      ]
     },
     "execution_count": 25,
     "metadata": {},
     "output_type": "execute_result"
    }
   ],
   "source": [
    "language_filt2 = df['Language'].str.contains('French')\n",
    "df.loc[language_filt2, 'Language']"
   ]
  },
  {
   "cell_type": "code",
   "execution_count": 26,
   "id": "be088e66",
   "metadata": {},
   "outputs": [
    {
     "data": {
      "text/plain": [
       "Number\n",
       "4      German, English, French, Italian, Dutch, Russian\n",
       "11                              German, English, French\n",
       "15                     German, English, French, Spanish\n",
       "25                              German, English, French\n",
       "33                              German, English, French\n",
       "41                     German, English, French, Spanish\n",
       "56                              German, English, French\n",
       "57                              German, English, French\n",
       "78                              German, English, French\n",
       "93                              German, English, French\n",
       "123                             German, English, French\n",
       "Name: Language, dtype: object"
      ]
     },
     "execution_count": 26,
     "metadata": {},
     "output_type": "execute_result"
    }
   ],
   "source": [
    "language_filt3 = df['Language'].str.contains('German')\n",
    "df.loc[language_filt2, 'Language']"
   ]
  },
  {
   "cell_type": "code",
   "execution_count": 28,
   "id": "712f6491",
   "metadata": {},
   "outputs": [
    {
     "data": {
      "text/plain": [
       "Number\n",
       "23     German, English, Turkish\n",
       "73     German, English, Turkish\n",
       "125    German, English, Turkish\n",
       "Name: Language, dtype: object"
      ]
     },
     "execution_count": 28,
     "metadata": {},
     "output_type": "execute_result"
    }
   ],
   "source": [
    "language_filt4 = df['Language'].str.contains('Turkish')\n",
    "df.loc[language_filt4, 'Language']"
   ]
  },
  {
   "cell_type": "code",
   "execution_count": 30,
   "id": "cefe7ecc",
   "metadata": {},
   "outputs": [
    {
     "data": {
      "text/plain": [
       "Number\n",
       "1    German, English, Hebrew, Arabic\n",
       "Name: Language, dtype: object"
      ]
     },
     "execution_count": 30,
     "metadata": {},
     "output_type": "execute_result"
    }
   ],
   "source": [
    "language_filt5 = df['Language'].str.contains('Arabic')\n",
    "df.loc[language_filt5, 'Language']"
   ]
  },
  {
   "cell_type": "code",
   "execution_count": 31,
   "id": "5b251ba1",
   "metadata": {},
   "outputs": [
    {
     "data": {
      "text/plain": [
       "Number\n",
       "1      German, English, Hebrew, Arabic\n",
       "44             German, English, Hebrew\n",
       "72             German, English, Hebrew\n",
       "110            German, English, Hebrew\n",
       "Name: Language, dtype: object"
      ]
     },
     "execution_count": 31,
     "metadata": {},
     "output_type": "execute_result"
    }
   ],
   "source": [
    "language_filt6 = df['Language'].str.contains('Hebrew')\n",
    "df.loc[language_filt6, 'Language']"
   ]
  },
  {
   "cell_type": "code",
   "execution_count": 32,
   "id": "abfbd34e",
   "metadata": {},
   "outputs": [
    {
     "data": {
      "text/plain": [
       "Number\n",
       "15        German, English, French, Spanish\n",
       "21    German, English, Spanish, Portuguese\n",
       "36       German, English, Spanish, Italian\n",
       "41        German, English, French, Spanish\n",
       "95    German, English, Spanish, Portuguese\n",
       "Name: Language, dtype: object"
      ]
     },
     "execution_count": 32,
     "metadata": {},
     "output_type": "execute_result"
    }
   ],
   "source": [
    "language_filt7 = df['Language'].str.contains('Spanish')\n",
    "df.loc[language_filt7, 'Language']"
   ]
  },
  {
   "cell_type": "code",
   "execution_count": 33,
   "id": "233ea476",
   "metadata": {},
   "outputs": [
    {
     "data": {
      "text/plain": [
       "Number\n",
       "4     German, English, French, Italian, Dutch, Russian\n",
       "36                   German, English, Spanish, Italian\n",
       "84                            German, English, Italian\n",
       "Name: Language, dtype: object"
      ]
     },
     "execution_count": 33,
     "metadata": {},
     "output_type": "execute_result"
    }
   ],
   "source": [
    "language_filt8 = df['Language'].str.contains('Italian')\n",
    "df.loc[language_filt8, 'Language']"
   ]
  },
  {
   "cell_type": "code",
   "execution_count": 34,
   "id": "80352e74",
   "metadata": {},
   "outputs": [
    {
     "data": {
      "text/plain": [
       "Number\n",
       "91    German, English, Polish\n",
       "94    German, English, Polish\n",
       "Name: Language, dtype: object"
      ]
     },
     "execution_count": 34,
     "metadata": {},
     "output_type": "execute_result"
    }
   ],
   "source": [
    "language_filt9 = df['Language'].str.contains('Polish')\n",
    "df.loc[language_filt9, 'Language']"
   ]
  },
  {
   "cell_type": "code",
   "execution_count": 38,
   "id": "95a8f687",
   "metadata": {},
   "outputs": [
    {
     "data": {
      "text/plain": [
       "Number\n",
       "21    German, English, Spanish, Portuguese\n",
       "95    German, English, Spanish, Portuguese\n",
       "Name: Language, dtype: object"
      ]
     },
     "execution_count": 38,
     "metadata": {},
     "output_type": "execute_result"
    }
   ],
   "source": [
    "language_filt10 = df['Language'].str.contains('Portuguese')\n",
    "df.loc[language_filt10, 'Language']"
   ]
  },
  {
   "cell_type": "code",
   "execution_count": 39,
   "id": "d724952e",
   "metadata": {},
   "outputs": [
    {
     "data": {
      "text/plain": [
       "Number\n",
       "4      German, English, French, Italian, Dutch, Russian\n",
       "120                              German, English, Dutch\n",
       "Name: Language, dtype: object"
      ]
     },
     "execution_count": 39,
     "metadata": {},
     "output_type": "execute_result"
    }
   ],
   "source": [
    "language_filt11 = df['Language'].str.contains('Dutch')\n",
    "df.loc[language_filt11, 'Language']"
   ]
  },
  {
   "cell_type": "code",
   "execution_count": 40,
   "id": "a15c5d6e",
   "metadata": {},
   "outputs": [
    {
     "data": {
      "text/plain": [
       "Number\n",
       "4     German, English, French, Italian, Dutch, Russian\n",
       "14                                     German, Russian\n",
       "59                            German, Russian, English\n",
       "86                            German, Russian, English\n",
       "87                                     German, Russian\n",
       "Name: Language, dtype: object"
      ]
     },
     "execution_count": 40,
     "metadata": {},
     "output_type": "execute_result"
    }
   ],
   "source": [
    "language_filt12 = df['Language'].str.contains('Russian')\n",
    "df.loc[language_filt12, 'Language']"
   ]
  },
  {
   "cell_type": "code",
   "execution_count": 42,
   "id": "6767bb6e",
   "metadata": {},
   "outputs": [
    {
     "data": {
      "text/plain": [
       "Number\n",
       "61    German, English, Greek\n",
       "Name: Language, dtype: object"
      ]
     },
     "execution_count": 42,
     "metadata": {},
     "output_type": "execute_result"
    }
   ],
   "source": [
    "language_filt13 = df['Language'].str.contains('Greek')\n",
    "df.loc[language_filt13, 'Language']"
   ]
  },
  {
   "cell_type": "code",
   "execution_count": 43,
   "id": "c932bfb3",
   "metadata": {},
   "outputs": [
    {
     "data": {
      "text/plain": [
       "Number\n",
       "118    German, English, Czech\n",
       "Name: Language, dtype: object"
      ]
     },
     "execution_count": 43,
     "metadata": {},
     "output_type": "execute_result"
    }
   ],
   "source": [
    "language_filt14 = df['Language'].str.contains('Czech')\n",
    "df.loc[language_filt14, 'Language']"
   ]
  },
  {
   "cell_type": "code",
   "execution_count": 44,
   "id": "465d1259",
   "metadata": {},
   "outputs": [
    {
     "data": {
      "text/plain": [
       "Number\n",
       "114    German, English, Danish\n",
       "Name: Language, dtype: object"
      ]
     },
     "execution_count": 44,
     "metadata": {},
     "output_type": "execute_result"
    }
   ],
   "source": [
    "language_filt15 = df['Language'].str.contains('Danish')\n",
    "df.loc[language_filt15, 'Language']"
   ]
  },
  {
   "cell_type": "code",
   "execution_count": 10,
   "id": "5d3340b7",
   "metadata": {},
   "outputs": [],
   "source": [
    "lang = [['English', 108], ['French', 11], ['Turkish', 3], ['Arabic', 1], ['Hebrew', 4], ['Spanish', 5], ['Italian', 3], ['Polish', 2], ['Portuguese', 2], ['Dutch',1], ['Russian', 5], ['Greek', 1], ['Czech', 1], ['Danish', 1]]"
   ]
  },
  {
   "cell_type": "code",
   "execution_count": 19,
   "id": "770bd8c2",
   "metadata": {},
   "outputs": [
    {
     "data": {
      "text/html": [
       "<div>\n",
       "<style scoped>\n",
       "    .dataframe tbody tr th:only-of-type {\n",
       "        vertical-align: middle;\n",
       "    }\n",
       "\n",
       "    .dataframe tbody tr th {\n",
       "        vertical-align: top;\n",
       "    }\n",
       "\n",
       "    .dataframe thead th {\n",
       "        text-align: right;\n",
       "    }\n",
       "</style>\n",
       "<table border=\"1\" class=\"dataframe\">\n",
       "  <thead>\n",
       "    <tr style=\"text-align: right;\">\n",
       "      <th></th>\n",
       "      <th>Language</th>\n",
       "      <th>International Languages Spoken by Therapists</th>\n",
       "    </tr>\n",
       "  </thead>\n",
       "  <tbody>\n",
       "    <tr>\n",
       "      <th>English</th>\n",
       "      <td>English</td>\n",
       "      <td>108</td>\n",
       "    </tr>\n",
       "    <tr>\n",
       "      <th>French</th>\n",
       "      <td>French</td>\n",
       "      <td>11</td>\n",
       "    </tr>\n",
       "    <tr>\n",
       "      <th>Turkish</th>\n",
       "      <td>Turkish</td>\n",
       "      <td>3</td>\n",
       "    </tr>\n",
       "    <tr>\n",
       "      <th>Arabic</th>\n",
       "      <td>Arabic</td>\n",
       "      <td>1</td>\n",
       "    </tr>\n",
       "    <tr>\n",
       "      <th>Hebrew</th>\n",
       "      <td>Hebrew</td>\n",
       "      <td>4</td>\n",
       "    </tr>\n",
       "    <tr>\n",
       "      <th>Spanish</th>\n",
       "      <td>Spanish</td>\n",
       "      <td>5</td>\n",
       "    </tr>\n",
       "    <tr>\n",
       "      <th>Italian</th>\n",
       "      <td>Italian</td>\n",
       "      <td>3</td>\n",
       "    </tr>\n",
       "    <tr>\n",
       "      <th>Polish</th>\n",
       "      <td>Polish</td>\n",
       "      <td>2</td>\n",
       "    </tr>\n",
       "    <tr>\n",
       "      <th>Portuguese</th>\n",
       "      <td>Portuguese</td>\n",
       "      <td>2</td>\n",
       "    </tr>\n",
       "    <tr>\n",
       "      <th>Dutch</th>\n",
       "      <td>Dutch</td>\n",
       "      <td>1</td>\n",
       "    </tr>\n",
       "    <tr>\n",
       "      <th>Russian</th>\n",
       "      <td>Russian</td>\n",
       "      <td>5</td>\n",
       "    </tr>\n",
       "    <tr>\n",
       "      <th>Greek</th>\n",
       "      <td>Greek</td>\n",
       "      <td>1</td>\n",
       "    </tr>\n",
       "    <tr>\n",
       "      <th>Czech</th>\n",
       "      <td>Czech</td>\n",
       "      <td>1</td>\n",
       "    </tr>\n",
       "    <tr>\n",
       "      <th>Danish</th>\n",
       "      <td>Danish</td>\n",
       "      <td>1</td>\n",
       "    </tr>\n",
       "  </tbody>\n",
       "</table>\n",
       "</div>"
      ],
      "text/plain": [
       "              Language  International Languages Spoken by Therapists\n",
       "English        English                                           108\n",
       "French          French                                            11\n",
       "Turkish        Turkish                                             3\n",
       "Arabic          Arabic                                             1\n",
       "Hebrew          Hebrew                                             4\n",
       "Spanish        Spanish                                             5\n",
       "Italian        Italian                                             3\n",
       "Polish          Polish                                             2\n",
       "Portuguese  Portuguese                                             2\n",
       "Dutch            Dutch                                             1\n",
       "Russian        Russian                                             5\n",
       "Greek            Greek                                             1\n",
       "Czech            Czech                                             1\n",
       "Danish          Danish                                             1"
      ]
     },
     "execution_count": 19,
     "metadata": {},
     "output_type": "execute_result"
    }
   ],
   "source": [
    "df2 = pd.DataFrame(lang , columns=['Language', 'International Languages Spoken by Therapists'], index=['English', 'French', 'Turkish','Arabic','Hebrew','Spanish','Italian','Polish','Portuguese','Dutch','Russian','Greek','Czech','Danish'])\n",
    "df2"
   ]
  },
  {
   "cell_type": "code",
   "execution_count": 20,
   "id": "4aa8c8da",
   "metadata": {},
   "outputs": [
    {
     "data": {
      "text/html": [
       "<div>\n",
       "<style scoped>\n",
       "    .dataframe tbody tr th:only-of-type {\n",
       "        vertical-align: middle;\n",
       "    }\n",
       "\n",
       "    .dataframe tbody tr th {\n",
       "        vertical-align: top;\n",
       "    }\n",
       "\n",
       "    .dataframe thead th {\n",
       "        text-align: right;\n",
       "    }\n",
       "</style>\n",
       "<table border=\"1\" class=\"dataframe\">\n",
       "  <thead>\n",
       "    <tr style=\"text-align: right;\">\n",
       "      <th></th>\n",
       "      <th>International Languages Spoken by Therapists</th>\n",
       "    </tr>\n",
       "  </thead>\n",
       "  <tbody>\n",
       "    <tr>\n",
       "      <th>English</th>\n",
       "      <td>108</td>\n",
       "    </tr>\n",
       "    <tr>\n",
       "      <th>French</th>\n",
       "      <td>11</td>\n",
       "    </tr>\n",
       "    <tr>\n",
       "      <th>Turkish</th>\n",
       "      <td>3</td>\n",
       "    </tr>\n",
       "    <tr>\n",
       "      <th>Arabic</th>\n",
       "      <td>1</td>\n",
       "    </tr>\n",
       "    <tr>\n",
       "      <th>Hebrew</th>\n",
       "      <td>4</td>\n",
       "    </tr>\n",
       "    <tr>\n",
       "      <th>Spanish</th>\n",
       "      <td>5</td>\n",
       "    </tr>\n",
       "    <tr>\n",
       "      <th>Italian</th>\n",
       "      <td>3</td>\n",
       "    </tr>\n",
       "    <tr>\n",
       "      <th>Polish</th>\n",
       "      <td>2</td>\n",
       "    </tr>\n",
       "    <tr>\n",
       "      <th>Portuguese</th>\n",
       "      <td>2</td>\n",
       "    </tr>\n",
       "    <tr>\n",
       "      <th>Dutch</th>\n",
       "      <td>1</td>\n",
       "    </tr>\n",
       "    <tr>\n",
       "      <th>Russian</th>\n",
       "      <td>5</td>\n",
       "    </tr>\n",
       "    <tr>\n",
       "      <th>Greek</th>\n",
       "      <td>1</td>\n",
       "    </tr>\n",
       "    <tr>\n",
       "      <th>Czech</th>\n",
       "      <td>1</td>\n",
       "    </tr>\n",
       "    <tr>\n",
       "      <th>Danish</th>\n",
       "      <td>1</td>\n",
       "    </tr>\n",
       "  </tbody>\n",
       "</table>\n",
       "</div>"
      ],
      "text/plain": [
       "            International Languages Spoken by Therapists\n",
       "English                                              108\n",
       "French                                                11\n",
       "Turkish                                                3\n",
       "Arabic                                                 1\n",
       "Hebrew                                                 4\n",
       "Spanish                                                5\n",
       "Italian                                                3\n",
       "Polish                                                 2\n",
       "Portuguese                                             2\n",
       "Dutch                                                  1\n",
       "Russian                                                5\n",
       "Greek                                                  1\n",
       "Czech                                                  1\n",
       "Danish                                                 1"
      ]
     },
     "execution_count": 20,
     "metadata": {},
     "output_type": "execute_result"
    }
   ],
   "source": [
    "df2.drop('Language', inplace=True, axis=1)\n",
    "df2"
   ]
  },
  {
   "cell_type": "code",
   "execution_count": 21,
   "id": "9aa02208",
   "metadata": {},
   "outputs": [
    {
     "data": {
      "text/plain": [
       "array([<AxesSubplot:ylabel='International Languages Spoken by Therapists'>],\n",
       "      dtype=object)"
      ]
     },
     "execution_count": 21,
     "metadata": {},
     "output_type": "execute_result"
    },
    {
     "data": {
      "image/png": "[encoded data removed]",
      "text/plain": [
       "<Figure size 648x648 with 1 Axes>"
      ]
     },
     "metadata": {},
     "output_type": "display_data"
    }
   ],
   "source": [
    "df2.plot.pie(subplots=True, figsize=(9, 9))"
   ]
  },
  {
   "cell_type": "markdown",
   "id": "c028244b",
   "metadata": {},
   "source": [
    "### 108 people or around 83% of our therapists speak English, and many others speak other languages besides it. This is going to be productive considering the high percentage of international residents in Berlin."
   ]
  },
  {
   "cell_type": "markdown",
   "id": "50cc6955",
   "metadata": {},
   "source": [
    "### What kind of therapy do the therapists offer in Berlin? "
   ]
  },
  {
   "cell_type": "code",
   "execution_count": 27,
   "id": "5afa0810",
   "metadata": {},
   "outputs": [
    {
     "data": {
      "text/plain": [
       "Number\n",
       "1      Depression, Panic Attack, Burnout, Crisis Inte...\n",
       "2      Depression, Panic Attack, Burnout, Crisis Inte...\n",
       "3      fear - phobia, depression, eating disorder, em...\n",
       "4                                                    NaN\n",
       "5      fear - phobia, depression, eating disorder, em...\n",
       "                             ...                        \n",
       "126    fear - phobia, depression, eating disorder, em...\n",
       "127    fear - phobia, depression, eating disorder, em...\n",
       "128    fear - phobia, depression, eating disorder, em...\n",
       "129    fear - phobia, depression, neurology, psycho-o...\n",
       "130                                                  NaN\n",
       "Name: Expertise, Length: 130, dtype: object"
      ]
     },
     "execution_count": 27,
     "metadata": {},
     "output_type": "execute_result"
    }
   ],
   "source": [
    "#type of therapies\n",
    "df['Expertise']"
   ]
  },
  {
   "cell_type": "code",
   "execution_count": null,
   "id": "be9ad105",
   "metadata": {},
   "outputs": [],
   "source": [
    "#bar chart"
   ]
  },
  {
   "cell_type": "markdown",
   "id": "31a8615b",
   "metadata": {},
   "source": [
    "Most therapists in our list offer ...., but there are also a range of choices available for people looking for a therapist with different kind of expertise."
   ]
  },
  {
   "cell_type": "markdown",
   "id": "b9183ed3",
   "metadata": {},
   "source": [
    "### What kind of payment methods are accepted by therapists in Berlin?"
   ]
  },
  {
   "cell_type": "code",
   "execution_count": null,
   "id": "ec7fd10d",
   "metadata": {},
   "outputs": [],
   "source": [
    "#frequency of therapists accepting statutory insurance/GKV"
   ]
  },
  {
   "cell_type": "code",
   "execution_count": null,
   "id": "4eca700b",
   "metadata": {},
   "outputs": [],
   "source": [
    "#gkv privat"
   ]
  },
  {
   "cell_type": "code",
   "execution_count": null,
   "id": "7ee4f266",
   "metadata": {},
   "outputs": [],
   "source": [
    "#pie chart?"
   ]
  },
  {
   "cell_type": "markdown",
   "id": "ea093a66",
   "metadata": {},
   "source": [
    "### From our list, one can see that many therapists accept only private payment or private insurance. Statutory health insurance, which is the only health insurance of most people have in Berin, is also accepted by around ... percent of the therapist in our list.  \n",
    "\n",
    "### Is there a difference between paying cash or using private insurance and statutory health insurance? One of the biggest problem with finding therapists according to our preliminary, library study is a long waiting time to get an appointment. Do the payment method of therapists affect their waiting time for the clients too? Is there a correlation?"
   ]
  },
  {
   "cell_type": "code",
   "execution_count": null,
   "id": "3d117242",
   "metadata": {},
   "outputs": [],
   "source": [
    "#boxplot chart of how long people have to wait"
   ]
  },
  {
   "cell_type": "code",
   "execution_count": null,
   "id": "baa767fc",
   "metadata": {},
   "outputs": [],
   "source": [
    "#the median of how long people have to wait, code"
   ]
  },
  {
   "cell_type": "markdown",
   "id": "d02ed285",
   "metadata": {},
   "source": [
    "### According to our list, in average people have to wait for ... weeks before getting their first appointment. From the boxplot chart, one can also see that the longest waiting time for a therapist can go up to 5 months long. \n",
    "\n",
    "Most people who are in emergency situation or in a deep psychological problem would want to get help as soon as possible. How many therapists are available within shorter waiting time, let say up to 2 weeks?"
   ]
  },
  {
   "cell_type": "code",
   "execution_count": null,
   "id": "cc909cbb",
   "metadata": {},
   "outputs": [],
   "source": [
    "#filter out therapist with only 2 weeks or less waiting time"
   ]
  },
  {
   "cell_type": "code",
   "execution_count": null,
   "id": "23009da5",
   "metadata": {},
   "outputs": [],
   "source": [
    "#scatterplot of waiting time and therapist with gkv or privat"
   ]
  },
  {
   "cell_type": "markdown",
   "id": "e8fa56b7",
   "metadata": {},
   "source": [
    "### From the scatterplot above, it is visible how the pattern forms a shorter waiting time for therapists who accept only private payment method. On the other hand, the other therapists who accept GKV have a longer waiting time.\n",
    "\n",
    "This shows how difficult it would be for most common people who cannot afford cash payment for therapies or people who do not pay extra per month for a private insurance. Theraply will try to answer this problem by providing an easy to use application that can give a suggestion of therapists according to their needs, availability, and the approximate waiting time.\n",
    "\n"
   ]
  }
 ],
 "metadata": {
  "kernelspec": {
   "display_name": "Python 3 (ipykernel)",
   "language": "python",
   "name": "python3"
  },
  "language_info": {
   "codemirror_mode": {
    "name": "ipython",
    "version": 3
   },
   "file_extension": ".py",
   "mimetype": "text/x-python",
   "name": "python",
   "nbconvert_exporter": "python",
   "pygments_lexer": "ipython3",
   "version": "3.9.7"
  }
 },
 "nbformat": 4,
 "nbformat_minor": 5
}
