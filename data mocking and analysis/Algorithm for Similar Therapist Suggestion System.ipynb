{
 "cells": [
  {
   "cell_type": "code",
   "execution_count": 57,
   "id": "43dec3c7",
   "metadata": {},
   "outputs": [],
   "source": [
    "import pandas as pd\n",
    "import numpy as np\n",
    "import matplotlib.pyplot as plt\n",
    "import seaborn as sns\n",
    "from scipy import stats\n",
    "from sklearn.feature_extraction.text import TfidfVectorizer, CountVectorizer\n",
    "from sklearn.metrics.pairwise import linear_kernel, cosine_similarity"
   ]
  },
  {
   "cell_type": "code",
   "execution_count": 3,
   "id": "fa797123",
   "metadata": {},
   "outputs": [],
   "source": [
    "df = pd.read_csv('/Users/tikaramadhini/Documents/theraplydata/thedata/final list of therapists and other info.csv', encoding_errors='ignore', sep=';', index_col='Number')"
   ]
  },
  {
   "cell_type": "code",
   "execution_count": 4,
   "id": "2a72a99d",
   "metadata": {
    "scrolled": true
   },
   "outputs": [
    {
     "data": {
      "text/html": [
       "<div>\n",
       "<style scoped>\n",
       "    .dataframe tbody tr th:only-of-type {\n",
       "        vertical-align: middle;\n",
       "    }\n",
       "\n",
       "    .dataframe tbody tr th {\n",
       "        vertical-align: top;\n",
       "    }\n",
       "\n",
       "    .dataframe thead th {\n",
       "        text-align: right;\n",
       "    }\n",
       "</style>\n",
       "<table border=\"1\" class=\"dataframe\">\n",
       "  <thead>\n",
       "    <tr style=\"text-align: right;\">\n",
       "      <th></th>\n",
       "      <th>Name</th>\n",
       "      <th>Gender</th>\n",
       "      <th>PersonalTherapy</th>\n",
       "      <th>Group Therapy</th>\n",
       "      <th>Language</th>\n",
       "      <th>TypeOfTherapy</th>\n",
       "      <th>Expertise</th>\n",
       "      <th>Insurance</th>\n",
       "      <th>PatientType</th>\n",
       "      <th>Address</th>\n",
       "      <th>PostalCode</th>\n",
       "      <th>PhoneNumber</th>\n",
       "      <th>Email</th>\n",
       "      <th>Website</th>\n",
       "      <th>CallAvailability</th>\n",
       "      <th>BarrierFreeAccess</th>\n",
       "      <th>WaitingTime(Weeks)</th>\n",
       "    </tr>\n",
       "    <tr>\n",
       "      <th>Number</th>\n",
       "      <th></th>\n",
       "      <th></th>\n",
       "      <th></th>\n",
       "      <th></th>\n",
       "      <th></th>\n",
       "      <th></th>\n",
       "      <th></th>\n",
       "      <th></th>\n",
       "      <th></th>\n",
       "      <th></th>\n",
       "      <th></th>\n",
       "      <th></th>\n",
       "      <th></th>\n",
       "      <th></th>\n",
       "      <th></th>\n",
       "      <th></th>\n",
       "      <th></th>\n",
       "    </tr>\n",
       "  </thead>\n",
       "  <tbody>\n",
       "    <tr>\n",
       "      <th>1</th>\n",
       "      <td>Prof.Dr.Dr. Rainer Kaus</td>\n",
       "      <td>Male</td>\n",
       "      <td>Yes</td>\n",
       "      <td>Yes</td>\n",
       "      <td>German, English, Hebrew, Arabic</td>\n",
       "      <td>analytical psychotherapy, depth psychology-bas...</td>\n",
       "      <td>Depression, Panic Attack, Burnout, Crisis Inte...</td>\n",
       "      <td>Public, Private</td>\n",
       "      <td>Adult, Kids and Teenagers</td>\n",
       "      <td>Garnisonkirchplatz 2/II</td>\n",
       "      <td>10178</td>\n",
       "      <td>030 24727950</td>\n",
       "      <td>NaN</td>\n",
       "      <td>NaN</td>\n",
       "      <td>Monday 15.00-16.40</td>\n",
       "      <td>Yes</td>\n",
       "      <td>4</td>\n",
       "    </tr>\n",
       "    <tr>\n",
       "      <th>2</th>\n",
       "      <td>Dr. Hannsi Padberg</td>\n",
       "      <td>Female</td>\n",
       "      <td>Yes</td>\n",
       "      <td>Yes</td>\n",
       "      <td>German</td>\n",
       "      <td>depth psychology-based psychotherapie</td>\n",
       "      <td>Depression, Panic Attack, Burnout, Crisis Inte...</td>\n",
       "      <td>Public, Private</td>\n",
       "      <td>Adult, Kids and Teenagers</td>\n",
       "      <td>Garnisonkirchplatz 2/II</td>\n",
       "      <td>10178</td>\n",
       "      <td>030 24727950</td>\n",
       "      <td>NaN</td>\n",
       "      <td>NaN</td>\n",
       "      <td>Monday 15.00-16.40</td>\n",
       "      <td>Yes</td>\n",
       "      <td>2</td>\n",
       "    </tr>\n",
       "    <tr>\n",
       "      <th>3</th>\n",
       "      <td>Dipl.-Psych. Reiner Domes-Nontasila</td>\n",
       "      <td>Male</td>\n",
       "      <td>Yes</td>\n",
       "      <td>No</td>\n",
       "      <td>German, English</td>\n",
       "      <td>depth psychology-based psychotherapie</td>\n",
       "      <td>fear - phobia, depression, eating disorder, em...</td>\n",
       "      <td>Public, Private</td>\n",
       "      <td>Adult</td>\n",
       "      <td>Dircksenstrae 47</td>\n",
       "      <td>10178</td>\n",
       "      <td>030 55494880</td>\n",
       "      <td>NaN</td>\n",
       "      <td>NaN</td>\n",
       "      <td>Monday 14:10 - 15:00, Tuesday 08:10 - 09:00, W...</td>\n",
       "      <td>No</td>\n",
       "      <td>5</td>\n",
       "    </tr>\n",
       "    <tr>\n",
       "      <th>4</th>\n",
       "      <td>Dr. Walter Raffauf</td>\n",
       "      <td>Male</td>\n",
       "      <td>Yes</td>\n",
       "      <td>No</td>\n",
       "      <td>German, English, French, Italian, Dutch, Russian</td>\n",
       "      <td>depth psychology-based psychotherapie</td>\n",
       "      <td>NaN</td>\n",
       "      <td>Public, Private</td>\n",
       "      <td>Adult</td>\n",
       "      <td>Dircksenstrae 47</td>\n",
       "      <td>10178</td>\n",
       "      <td>030 234569870</td>\n",
       "      <td>NaN</td>\n",
       "      <td>http://www.neuropraxis-mitte.de</td>\n",
       "      <td></td>\n",
       "      <td>No</td>\n",
       "      <td>6</td>\n",
       "    </tr>\n",
       "    <tr>\n",
       "      <th>5</th>\n",
       "      <td>Dipl.-Psych. Frank Taffelt</td>\n",
       "      <td>Male</td>\n",
       "      <td>Yes</td>\n",
       "      <td>No</td>\n",
       "      <td>German</td>\n",
       "      <td>Analytical psychotherapy, depth psychology-bas...</td>\n",
       "      <td>fear - phobia, depression, eating disorder, em...</td>\n",
       "      <td>Public, Private</td>\n",
       "      <td>Adult, Kids and Teenagers</td>\n",
       "      <td>Rosenthaler Strae 40/41</td>\n",
       "      <td>10178</td>\n",
       "      <td>030 2829012</td>\n",
       "      <td>h.f.taffelt@t-online.de</td>\n",
       "      <td>NaN</td>\n",
       "      <td>Monday 10:20 - 10:45, 14:50 - 15:15 Tuesday 10...</td>\n",
       "      <td>Yes</td>\n",
       "      <td>8</td>\n",
       "    </tr>\n",
       "  </tbody>\n",
       "</table>\n",
       "</div>"
      ],
      "text/plain": [
       "                                       Name  Gender PersonalTherapy  \\\n",
       "Number                                                                \n",
       "1                   Prof.Dr.Dr. Rainer Kaus    Male             Yes   \n",
       "2                        Dr. Hannsi Padberg  Female             Yes   \n",
       "3       Dipl.-Psych. Reiner Domes-Nontasila    Male             Yes   \n",
       "4                        Dr. Walter Raffauf    Male             Yes   \n",
       "5                Dipl.-Psych. Frank Taffelt    Male             Yes   \n",
       "\n",
       "       Group Therapy                                          Language  \\\n",
       "Number                                                                   \n",
       "1                Yes                   German, English, Hebrew, Arabic   \n",
       "2                Yes                                            German   \n",
       "3                 No                                   German, English   \n",
       "4                 No  German, English, French, Italian, Dutch, Russian   \n",
       "5                 No                                            German   \n",
       "\n",
       "                                            TypeOfTherapy  \\\n",
       "Number                                                      \n",
       "1       analytical psychotherapy, depth psychology-bas...   \n",
       "2                   depth psychology-based psychotherapie   \n",
       "3                   depth psychology-based psychotherapie   \n",
       "4                   depth psychology-based psychotherapie   \n",
       "5       Analytical psychotherapy, depth psychology-bas...   \n",
       "\n",
       "                                                Expertise        Insurance  \\\n",
       "Number                                                                       \n",
       "1       Depression, Panic Attack, Burnout, Crisis Inte...  Public, Private   \n",
       "2       Depression, Panic Attack, Burnout, Crisis Inte...  Public, Private   \n",
       "3       fear - phobia, depression, eating disorder, em...  Public, Private   \n",
       "4                                                     NaN  Public, Private   \n",
       "5       fear - phobia, depression, eating disorder, em...  Public, Private   \n",
       "\n",
       "                      PatientType                   Address  PostalCode  \\\n",
       "Number                                                                    \n",
       "1       Adult, Kids and Teenagers  Garnisonkirchplatz 2/II        10178   \n",
       "2       Adult, Kids and Teenagers  Garnisonkirchplatz 2/II        10178   \n",
       "3                           Adult          Dircksenstrae 47       10178   \n",
       "4                           Adult          Dircksenstrae 47       10178   \n",
       "5       Adult, Kids and Teenagers  Rosenthaler Strae 40/41        10178   \n",
       "\n",
       "          PhoneNumber                    Email  \\\n",
       "Number                                           \n",
       "1        030 24727950                      NaN   \n",
       "2        030 24727950                      NaN   \n",
       "3        030 55494880                      NaN   \n",
       "4       030 234569870                      NaN   \n",
       "5         030 2829012  h.f.taffelt@t-online.de   \n",
       "\n",
       "                                Website  \\\n",
       "Number                                    \n",
       "1                                   NaN   \n",
       "2                                   NaN   \n",
       "3                                   NaN   \n",
       "4       http://www.neuropraxis-mitte.de   \n",
       "5                                   NaN   \n",
       "\n",
       "                                         CallAvailability BarrierFreeAccess  \\\n",
       "Number                                                                        \n",
       "1                                      Monday 15.00-16.40               Yes   \n",
       "2                                      Monday 15.00-16.40               Yes   \n",
       "3       Monday 14:10 - 15:00, Tuesday 08:10 - 09:00, W...                No   \n",
       "4                                                                        No   \n",
       "5       Monday 10:20 - 10:45, 14:50 - 15:15 Tuesday 10...               Yes   \n",
       "\n",
       "       WaitingTime(Weeks)  \n",
       "Number                     \n",
       "1                       4  \n",
       "2                       2  \n",
       "3                       5  \n",
       "4                       6  \n",
       "5                       8  "
      ]
     },
     "execution_count": 4,
     "metadata": {},
     "output_type": "execute_result"
    }
   ],
   "source": [
    "df.head(5)"
   ]
  },
  {
   "cell_type": "code",
   "execution_count": 19,
   "id": "4c4eea23",
   "metadata": {},
   "outputs": [],
   "source": [
    "df['similartherapist'] = df['Expertise'] + df['TypeOfTherapy']\n",
    "df['similartherapist'] = df['similartherapist'].fillna('')"
   ]
  },
  {
   "cell_type": "code",
   "execution_count": 66,
   "id": "b49278e4",
   "metadata": {},
   "outputs": [],
   "source": [
    "tf = TfidfVectorizer(analyzer='word',ngram_range=(1, 2),min_df=0, stop_words='english')\n",
    "tfidf_matrix = tf.fit_transform(df['similartherapist'])"
   ]
  },
  {
   "cell_type": "code",
   "execution_count": 7,
   "id": "481ab287",
   "metadata": {},
   "outputs": [
    {
     "data": {
      "text/plain": [
       "(130, 355)"
      ]
     },
     "execution_count": 7,
     "metadata": {},
     "output_type": "execute_result"
    }
   ],
   "source": [
    "tfidf_matrix.shape"
   ]
  },
  {
   "cell_type": "code",
   "execution_count": 8,
   "id": "a9de82e4",
   "metadata": {},
   "outputs": [],
   "source": [
    "cosine_sim = linear_kernel(tfidf_matrix, tfidf_matrix)"
   ]
  },
  {
   "cell_type": "code",
   "execution_count": 9,
   "id": "419e5bcc",
   "metadata": {},
   "outputs": [
    {
     "data": {
      "text/plain": [
       "array([1.        , 0.61021375, 0.14256276, 0.        , 0.26464517,\n",
       "       0.12100111, 0.14256276, 0.27910663, 0.3097165 , 0.03952085,\n",
       "       0.26464517, 0.        , 0.29321396, 0.3097165 , 0.29321396,\n",
       "       0.29321396, 0.09132385, 0.09660676, 0.0190235 , 0.0286848 ,\n",
       "       0.03321448, 0.27910663, 0.27910663, 0.03321448, 0.14256276,\n",
       "       0.61021375, 0.27910663, 0.27910663, 0.26464517, 0.26464517,\n",
       "       0.26464517, 0.03321448, 0.14636174, 0.14256276, 0.03321448,\n",
       "       0.27910663, 0.14636174, 0.21287485, 0.14256276, 0.        ,\n",
       "       0.14636174, 0.14256276, 0.05118231, 0.03677547, 0.19257737,\n",
       "       0.14636174, 0.03321448, 0.53887183, 0.03321448, 0.27910663,\n",
       "       0.0190158 , 0.03162485, 0.03113196, 0.02257494, 0.0790871 ,\n",
       "       0.10549018, 0.08735544, 0.02149347, 0.02662664, 0.02330707,\n",
       "       0.04105039, 0.00467701, 0.03269143, 0.03939942, 0.1272724 ,\n",
       "       0.01293631, 0.12583912, 0.01702283, 0.03762086, 0.1272724 ,\n",
       "       0.01873578, 0.01775711, 0.01751587, 0.01588237, 0.04446177,\n",
       "       0.04700732, 0.0338665 , 0.01742904, 0.04700732, 0.02075539,\n",
       "       0.00992234, 0.01951461, 0.03716472, 0.01436488, 0.01401303,\n",
       "       0.01848644, 0.04624998, 0.09184   , 0.03022007, 0.09485559,\n",
       "       0.00889823, 0.04001801, 0.0306966 , 0.02041179, 0.02200868,\n",
       "       0.03952085, 0.02749591, 0.03939942, 0.01848644, 0.02557127,\n",
       "       0.02147152, 0.01848644, 0.03129474, 0.03764095, 0.09293161,\n",
       "       0.03422264, 0.0401716 , 0.0113649 , 0.01448404, 0.02516802,\n",
       "       0.01573793, 0.01873578, 0.01867232, 0.11227447, 0.02841182,\n",
       "       0.03981451, 0.0138056 , 0.        , 0.01714689, 0.04624998,\n",
       "       0.03822274, 0.0423305 , 0.05706735, 0.01650334, 0.01952706,\n",
       "       0.12382822, 0.03181066, 0.03235881, 0.00367424, 0.        ])"
      ]
     },
     "execution_count": 9,
     "metadata": {},
     "output_type": "execute_result"
    }
   ],
   "source": [
    "cosine_sim[0]"
   ]
  },
  {
   "cell_type": "code",
   "execution_count": 10,
   "id": "7dfcbcb5",
   "metadata": {},
   "outputs": [],
   "source": [
    "df = df.reset_index()\n",
    "names = df['Name']\n",
    "indexes = pd.Series(df.index, index=df['Name'])"
   ]
  },
  {
   "cell_type": "code",
   "execution_count": 82,
   "id": "31997695",
   "metadata": {},
   "outputs": [],
   "source": [
    "def get_recommendations(Name):\n",
    "    idx = indexes[Name]\n",
    "    sim_scores = list(enumerate(cosine_sim[idx]))\n",
    "    sim_scores = sorted(sim_scores, key=lambda x: x[1], reverse=True)\n",
    "    sim_scores = sim_scores[1:11]\n",
    "    therapist_indexes = [i[0] for i in sim_scores]\n",
    "    return names.iloc[therapist_indexes]"
   ]
  },
  {
   "cell_type": "code",
   "execution_count": 84,
   "id": "3c53779f",
   "metadata": {},
   "outputs": [
    {
     "data": {
      "text/plain": [
       "36                  Dr. Daniel Schumacher\n",
       "40              Dipl.-Psych. Heika Grning\n",
       "45             Dipl.-Med. Katharina Bolze\n",
       "66    Dipl.-Psych.Alexandra von der Linde\n",
       "64              M.Sc.Psych.Jonas Schndorf\n",
       "69                           Lutz Ulbrich\n",
       "7                         Dr. Andrea Dorn\n",
       "21                 Dipl.-Psych. Anja Voss\n",
       "22           Dipl.-Psych. Monika Englisch\n",
       "26                     Dr. Wilhelm Brggen\n",
       "Name: Name, dtype: object"
      ]
     },
     "execution_count": 84,
     "metadata": {},
     "output_type": "execute_result"
    }
   ],
   "source": [
    "get_recommendations('Dipl.-Med. Katharina Bolze')"
   ]
  },
  {
   "cell_type": "code",
   "execution_count": null,
   "id": "202b9ba4",
   "metadata": {},
   "outputs": [],
   "source": []
  }
 ],
 "metadata": {
  "kernelspec": {
   "display_name": "Python 3 (ipykernel)",
   "language": "python",
   "name": "python3"
  },
  "language_info": {
   "codemirror_mode": {
    "name": "ipython",
    "version": 3
   },
   "file_extension": ".py",
   "mimetype": "text/x-python",
   "name": "python",
   "nbconvert_exporter": "python",
   "pygments_lexer": "ipython3",
   "version": "3.9.7"
  }
 },
 "nbformat": 4,
 "nbformat_minor": 5
}
